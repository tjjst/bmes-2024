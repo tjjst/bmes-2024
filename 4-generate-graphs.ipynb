{
 "cells": [
  {
   "cell_type": "code",
   "execution_count": 290,
   "metadata": {},
   "outputs": [],
   "source": [
    "import os\n",
    "import pandas as pd\n",
    "import seaborn as sns\n",
    "import matplotlib.pyplot as plt\n",
    "import numpy as np\n",
    "import random\n",
    "from scipy.optimize import curve_fit\n",
    "from sklearn.metrics import r2_score\n",
    "from datetime import datetime\n",
    "from matplotlib.backends.backend_pdf import PdfPages"
   ]
  },
  {
   "cell_type": "code",
   "execution_count": 291,
   "metadata": {},
   "outputs": [],
   "source": [
    "def sigmoid(x, a, b, c, d):\n",
    "    return a / (1.0 + np.exp(-c * (x - d))) + b"
   ]
  },
  {
   "cell_type": "code",
   "execution_count": 292,
   "metadata": {},
   "outputs": [],
   "source": [
    "drug = 'berzosertib'\n",
    "cell_line = 'oc3'\n",
    "replicate = 'r2'\n",
    "\n",
    "\n",
    "# Initialize plate naming\n",
    "if drug == 'pf' or drug == 'berzosertib' or drug == 'palbociclib' or drug == 'cvt':\n",
    "    plate_name = cell_line+'-cbpp'\n",
    "elif drug == 'cisplatin' or drug == 'olaparib' or drug == 'adavosertib' or drug == 'ro':\n",
    "    plate_name = cell_line+'-coar'\n",
    "\n",
    "\n",
    "# File handling\n",
    "csv_path = r'/Volumes/HSIT-Stallaert-Lab/data_analysis/Tyler/hgsc/data/hgsc-full-r2/'+plate_name+'/'+drug+'.csv'\n",
    "save_dir = os.path.join(r'/Volumes/HSIT-Stallaert-Lab/data_analysis/Tyler/hgsc/data/figures',cell_line)\n",
    "if not os.path.isdir(save_dir): os.mkdir(save_dir)\n",
    "\n",
    "drug_dir = os.path.join(save_dir,drug)\n",
    "if not os.path.isdir(drug_dir): os.mkdir(drug_dir)\n",
    "\n",
    "df = pd.read_csv(csv_path)\n",
    "\n",
    "\n",
    "# Setup concentrations\n",
    "if 'cbpp' in csv_path: concentrations = [0, 0.0005, 0.001, 0.01, 0.1, 0.5, 1, 5]\n",
    "elif 'coar' in csv_path: concentrations = [0,.001,.01,.1,.5,1,5,10]"
   ]
  },
  {
   "cell_type": "code",
   "execution_count": 294,
   "metadata": {},
   "outputs": [
    {
     "name": "stdout",
     "output_type": "stream",
     "text": [
      "Theshold: 7\n",
      "Condition A... %Pos: 29.29\n",
      "Condition B... %Pos: 29.95\n",
      "Condition C... %Pos: 28.1\n",
      "Condition D... %Pos: 31.03\n",
      "Condition E... %Pos: 31.45\n",
      "Condition F... %Pos: 27.87\n",
      "Condition G... %Pos: 20.27\n",
      "Condition H... %Pos: 6.34\n",
      "0.9845598774852062\n"
     ]
    }
   ],
   "source": [
    "# make EdU graph\n",
    "to_save = True\n",
    "\n",
    "\n",
    "data = df['EdU-mean']\n",
    "\n",
    "rep_data = []\n",
    "\n",
    "for x in np.unique(df['condition']):\n",
    "    sub_df = df[df['condition'] == x]\n",
    "    sub_data = list(sub_df['EdU-mean'])\n",
    "\n",
    "    try:\n",
    "        l = random.sample(sub_data,100)\n",
    "        rep_data = rep_data+l\n",
    "    except:\n",
    "        rep_data = rep_data + sub_data\n",
    "\n",
    "thresh = 7\n",
    "thresh_list = [thresh for x in np.unique(df['condition'])]\n",
    "#thresh_list[0] = 8.5\n",
    "#thresh_list[1] = 8\n",
    "#thresh_list[2] = 8.2\n",
    "#thresh_list[3] = 8.3\n",
    "#thresh_list[4] = 8.3\n",
    "# thresh_list[5] = 8.5\n",
    "#thresh_list[6] = 8.5\n",
    "#thresh_list[7] = 8.3\n",
    "\n",
    "\n",
    "print(f'Theshold: {thresh}')\n",
    "\n",
    "pdf_name = '_'.join([datetime.today().strftime('%Y-%m-%d'),replicate,drug,'EdU-histograms.pdf'])\n",
    "pdf_path = os.path.join(drug_dir,pdf_name)\n",
    "\n",
    "\n",
    "\n",
    "with PdfPages(pdf_path) as pdf:                 # COMMENT/UNCOMMENT FOR SAVING\n",
    "#if 1+1:\n",
    "\n",
    "    fig,ax = plt.subplots(1,1)\n",
    "    ax = sns.histplot(np.log(data),bins=50)\n",
    "\n",
    "    ax.axvline(x=thresh)\n",
    "    ax.text(x=thresh,y=ax.get_ylim()[-1]/2,s=f'          Treshold: {thresh}')\n",
    "    plt.title('Aggregated EdU Distribution')      \n",
    "\n",
    "    if to_save:\n",
    "        pdf.savefig()                               \n",
    "        plt.close()                                 \n",
    "\n",
    "\n",
    "\n",
    "\n",
    "    perc_vals = []\n",
    "\n",
    "    for i,x in enumerate(np.unique(df['condition'])):\n",
    "\n",
    "        sub_df = df[df['condition'] == x]\n",
    "        sub_data = sub_df['EdU-mean']\n",
    "\n",
    "        perc_pos = len([x for x in sub_data if x>np.exp(thresh_list[i])])/len(sub_data)\n",
    "\n",
    "        print(f'Condition {x}... %Pos: {round(perc_pos*100,2)}')\n",
    "\n",
    "        perc_vals.append(perc_pos)\n",
    "\n",
    "        fig,ax = plt.subplots(figsize=(6,6))\n",
    "        sns.histplot(np.log(sub_data),bins=50,ax=ax)\n",
    "        ax.axvline(x=thresh_list[i],color='red',linestyle='--')\n",
    "\n",
    "        ax.text(sum(ax.get_xlim())/2,\n",
    "                sum(ax.get_ylim())/2,\n",
    "                s=f'% 2N: {round(perc_pos*100,2)}',\n",
    "                ha='left',va='top')\n",
    "        plt.title(f'Condition {x}: EdU Distribution')\n",
    "        \n",
    "        if to_save:\n",
    "            pdf.savefig()                               # COMMENT/UNCOMMENT FOR SAVING\n",
    "            plt.close()                                 # COMMENT/UNCOMMENT FOR SAVING\n",
    "\n",
    "conditions_to_exclude = []\n",
    "fin_concentrations = [x for i,x in enumerate(concentrations) if i not in conditions_to_exclude]\n",
    "fin_percs = [x for i,x in enumerate(perc_vals) if i not in conditions_to_exclude]\n",
    "\n",
    "popt,pcov = curve_fit(sigmoid,\n",
    "                      fin_concentrations,\n",
    "                      fin_percs,\n",
    "                      maxfev=100000)\n",
    "\n",
    "x_fit = np.linspace(min(concentrations),max(concentrations),1000)\n",
    "y_fit = sigmoid(x_fit,*popt)\n",
    "\n",
    "IC50_y = ((np.max(y_fit)-np.min(y_fit))/2)+np.min(y_fit)\n",
    "IC50 = x_fit[list(y_fit).index(y_fit[np.abs(y_fit - IC50_y).argmin()])]\n",
    "\n",
    "fit_for_y = sigmoid(fin_concentrations,*popt)\n",
    "r_squared = r2_score(fin_percs,fit_for_y)\n",
    "print(r_squared)\n",
    "\n",
    "\n",
    "pdf_name = '_'.join([datetime.today().strftime('%Y-%m-%d'),replicate,drug,'EdU-annotated-drc.pdf'])\n",
    "pdf_path = os.path.join(drug_dir,pdf_name)\n",
    "\n",
    "\n",
    "#if 1:\n",
    "with PdfPages(pdf_path) as pdf:\n",
    "    l = plt.figure()\n",
    "    #plt.scatter(fin_concentrations,fin_percs,label='Data',color='red')\n",
    "    plt.scatter(concentrations,perc_vals,label='Data',color='red')\n",
    "    plt.plot(x_fit,y_fit,label='Fitted Curve', color='blue')\n",
    "    plt.xscale('log')\n",
    "    plt.xlabel('Drug Concentrations')\n",
    "    plt.ylabel('% Positive')\n",
    "    plt.legend()\n",
    "\n",
    "    plt.text(x=.5,y=np.average(perc_vals),s=f'R-Squared: {round(r_squared,2)} \\n IC-50: {round(IC50,2)}')\n",
    "    plt.title(label='Concentration v. Proportion EdU(+)')\n",
    "    plt.axvline(x=IC50,color='black')\n",
    "\n",
    "    #plt.show()\n",
    "\n",
    "    if to_save:\n",
    "        pdf.savefig()\n",
    "        plt.close()"
   ]
  },
  {
   "cell_type": "code",
   "execution_count": 162,
   "metadata": {},
   "outputs": [
    {
     "name": "stdout",
     "output_type": "stream",
     "text": [
      "8\n",
      "8\n",
      "0.019095987913914425\n"
     ]
    },
    {
     "data": {
      "image/png": "[encoded data removed]",
      "text/plain": [
       "<Figure size 640x480 with 1 Axes>"
      ]
     },
     "metadata": {},
     "output_type": "display_data"
    },
    {
     "name": "stderr",
     "output_type": "stream",
     "text": [
      "/var/folders/80/0dd29wb12tz3rggyy_q680gr0000gn/T/ipykernel_87145/3707606191.py:26: MatplotlibDeprecationWarning: Keeping empty pdf files is deprecated since 3.8 and support will be removed two minor releases later.\n",
      "  with PdfPages(pdf_path) as pdf:\n"
     ]
    },
    {
     "ename": "ValueError",
     "evalue": "No figure None",
     "output_type": "error",
     "traceback": [
      "\u001b[0;31m---------------------------------------------------------------------------\u001b[0m",
      "\u001b[0;31mValueError\u001b[0m                                Traceback (most recent call last)",
      "Cell \u001b[0;32mIn[162], line 41\u001b[0m\n\u001b[1;32m     37\u001b[0m plt\u001b[38;5;241m.\u001b[39maxvline(x\u001b[38;5;241m=\u001b[39mIC50,color\u001b[38;5;241m=\u001b[39m\u001b[38;5;124m'\u001b[39m\u001b[38;5;124mblack\u001b[39m\u001b[38;5;124m'\u001b[39m)\n\u001b[1;32m     39\u001b[0m plt\u001b[38;5;241m.\u001b[39mshow()\n\u001b[0;32m---> 41\u001b[0m \u001b[43mpdf\u001b[49m\u001b[38;5;241;43m.\u001b[39;49m\u001b[43msavefig\u001b[49m\u001b[43m(\u001b[49m\u001b[43m)\u001b[49m\n\u001b[1;32m     42\u001b[0m plt\u001b[38;5;241m.\u001b[39mclose()\n",
      "File \u001b[0;32m/Library/Frameworks/Python.framework/Versions/3.11/lib/python3.11/site-packages/matplotlib/backends/backend_pdf.py:2762\u001b[0m, in \u001b[0;36mPdfPages.savefig\u001b[0;34m(self, figure, **kwargs)\u001b[0m\n\u001b[1;32m   2760\u001b[0m         manager \u001b[38;5;241m=\u001b[39m Gcf\u001b[38;5;241m.\u001b[39mget_fig_manager(figure)\n\u001b[1;32m   2761\u001b[0m     \u001b[38;5;28;01mif\u001b[39;00m manager \u001b[38;5;129;01mis\u001b[39;00m \u001b[38;5;28;01mNone\u001b[39;00m:\n\u001b[0;32m-> 2762\u001b[0m         \u001b[38;5;28;01mraise\u001b[39;00m \u001b[38;5;167;01mValueError\u001b[39;00m(\u001b[38;5;124mf\u001b[39m\u001b[38;5;124m\"\u001b[39m\u001b[38;5;124mNo figure \u001b[39m\u001b[38;5;132;01m{\u001b[39;00mfigure\u001b[38;5;132;01m}\u001b[39;00m\u001b[38;5;124m\"\u001b[39m)\n\u001b[1;32m   2763\u001b[0m     figure \u001b[38;5;241m=\u001b[39m manager\u001b[38;5;241m.\u001b[39mcanvas\u001b[38;5;241m.\u001b[39mfigure\n\u001b[1;32m   2764\u001b[0m \u001b[38;5;66;03m# Force use of pdf backend, as PdfPages is tightly coupled with it.\u001b[39;00m\n",
      "\u001b[0;31mValueError\u001b[0m: No figure None"
     ]
    }
   ],
   "source": [
    "fin_concentrations = [x for i,x in enumerate(concentrations)]\n",
    "print(len(fin_concentrations))\n",
    "fin_percs = [x for i,x in enumerate(av_set)]\n",
    "print(len(fin_percs))\n",
    "\n",
    "popt,pcov = curve_fit(sigmoid,\n",
    "                      fin_concentrations,\n",
    "                      fin_percs,\n",
    "                      maxfev=10000)\n",
    "\n",
    "x_fit = np.linspace(min(concentrations),max(concentrations),1000)\n",
    "y_fit = sigmoid(x_fit,*popt)\n",
    "\n",
    "IC50_y = ((np.max(y_fit)-np.min(y_fit))/2)+np.min(y_fit)\n",
    "IC50 = x_fit[list(y_fit).index(y_fit[np.abs(y_fit - IC50_y).argmin()])]\n",
    "\n",
    "fit_for_y = sigmoid(fin_concentrations,*popt)\n",
    "r_squared = r2_score(fin_percs,fit_for_y)\n",
    "print(r_squared)\n",
    "\n",
    "\n",
    "pdf_name = '_'.join([datetime.today().strftime('%Y-%m-%d'),replicate,drug,'EdU-annotated-drc.pdf'])\n",
    "pdf_path = os.path.join(drug_dir,pdf_name)\n",
    "\n",
    "\n",
    "with PdfPages(pdf_path) as pdf:\n",
    "    l = plt.figure()\n",
    "    plt.scatter(fin_concentrations,fin_percs,label='Data',color='red')\n",
    "    plt.plot(x_fit,y_fit,label='Fitted Curve', color='blue')\n",
    "    plt.xscale('log')\n",
    "    plt.xlabel('Drug Concentrations')\n",
    "    plt.ylabel('% Positive')\n",
    "    plt.legend()\n",
    "\n",
    "    plt.text(x=.5,y=np.average(perc_vals),s=f'R-Squared: {round(r_squared,2)} \\n IC-50: {round(IC50,2)}')\n",
    "    plt.title(label='Concentration v. Proportion EdU(+)')\n",
    "    plt.axvline(x=IC50,color='black')\n",
    "\n",
    "    plt.show()\n",
    "\n",
    "    pdf.savefig()\n",
    "    plt.close()"
   ]
  },
  {
   "cell_type": "code",
   "execution_count": 187,
   "metadata": {},
   "outputs": [
    {
     "data": {
      "text/plain": [
       "0          511114.0\n",
       "1          642247.0\n",
       "3          388560.0\n",
       "7          747057.0\n",
       "8          426337.0\n",
       "            ...    \n",
       "177746     535942.0\n",
       "177747    1303822.0\n",
       "177748    5297349.0\n",
       "177749    4685515.0\n",
       "177750    2009755.0\n",
       "Length: 175973, dtype: float64"
      ]
     },
     "execution_count": 187,
     "metadata": {},
     "output_type": "execute_result"
    }
   ],
   "source": [
    "data[data > np.percentile(data,1)]"
   ]
  },
  {
   "cell_type": "code",
   "execution_count": null,
   "metadata": {},
   "outputs": [],
   "source": []
  },
  {
   "cell_type": "code",
   "execution_count": null,
   "metadata": {},
   "outputs": [],
   "source": []
  },
  {
   "cell_type": "code",
   "execution_count": null,
   "metadata": {},
   "outputs": [],
   "source": []
  },
  {
   "cell_type": "code",
   "execution_count": 238,
   "metadata": {},
   "outputs": [
    {
     "data": {
      "text/plain": [
       "<matplotlib.lines.Line2D at 0x156316d50>"
      ]
     },
     "execution_count": 238,
     "metadata": {},
     "output_type": "execute_result"
    },
    {
     "data": {
      "image/png": "[encoded data removed]",
      "text/plain": [
       "<Figure size 1000x1000 with 1 Axes>"
      ]
     },
     "metadata": {},
     "output_type": "display_data"
    }
   ],
   "source": [
    "hp, vp = plt.subplots(1,figsize=(10,10))\n",
    "\n",
    "data = df['DAPI-mean']*df['area']\n",
    "cdf = df[df['DAPI-mean']*df['area'] > np.percentile(data,.1)]\n",
    "cdf = cdf[cdf['DAPI-mean']*cdf['area'] < np.percentile(data,99)]\n",
    "cdata = cdf['DAPI-mean']*cdf['area']\n",
    "\n",
    "sns.histplot( data , bins = 1000)\n",
    "vp.set_xlim((0,4000000))\n",
    "\n",
    "thresh = .7*pow(10,6)\n",
    "vp.axvline(x=thresh)"
   ]
  },
  {
   "cell_type": "code",
   "execution_count": 239,
   "metadata": {},
   "outputs": [
    {
     "data": {
      "text/plain": [
       "<matplotlib.lines.Line2D at 0x175202150>"
      ]
     },
     "execution_count": 239,
     "metadata": {},
     "output_type": "execute_result"
    },
    {
     "data": {
      "image/png": "[encoded data removed]",
      "text/plain": [
       "<Figure size 1000x1000 with 1 Axes>"
      ]
     },
     "metadata": {},
     "output_type": "display_data"
    }
   ],
   "source": [
    "hp, vp = plt.subplots(1,figsize=(10,10))\n",
    "\n",
    "vp = sns.violinplot(cdata)\n",
    "vp.axhline(y=thresh)"
   ]
  },
  {
   "cell_type": "code",
   "execution_count": null,
   "metadata": {},
   "outputs": [],
   "source": []
  },
  {
   "cell_type": "code",
   "execution_count": null,
   "metadata": {},
   "outputs": [],
   "source": []
  },
  {
   "cell_type": "code",
   "execution_count": null,
   "metadata": {},
   "outputs": [],
   "source": []
  },
  {
   "cell_type": "code",
   "execution_count": null,
   "metadata": {},
   "outputs": [],
   "source": []
  },
  {
   "cell_type": "code",
   "execution_count": 74,
   "metadata": {},
   "outputs": [
    {
     "name": "stdout",
     "output_type": "stream",
     "text": [
      "Condition A... %2n: 64.87\n",
      "Condition B... %2n: 54.07\n",
      "Condition C... %2n: 60.58\n",
      "Condition D... %2n: 57.43\n",
      "Condition E... %2n: 60.46\n",
      "Condition F... %2n: 66.83\n",
      "Condition G... %2n: 67.7\n",
      "Condition H... %2n: 68.09\n",
      "0.9969347056349808\n"
     ]
    }
   ],
   "source": [
    "# make int-DNA graph\n",
    "to_save = True\n",
    "\n",
    "\n",
    "data = df['DAPI-mean']*df['area']\n",
    "\n",
    "low_lim = 1\n",
    "up_lim = 99\n",
    "\n",
    "rep_data = [1]\n",
    "\n",
    "for x in np.unique(df['condition']):\n",
    "    sub_df = df[df['condition'] == x]\n",
    "    sub_data = list(sub_df['DAPI-mean']*sub_df['area'])\n",
    "\n",
    "    try:\n",
    "        l = random.sample(sub_data,100)\n",
    "        rep_data = rep_data+l\n",
    "    except:\n",
    "        l = [x for x in sub_data]\n",
    "        rep_data = rep_data+l\n",
    "\n",
    "cleaned_data = [x for x in rep_data if x>np.percentile(data,low_lim) and x<np.percentile(data,up_lim)]\n",
    "\n",
    "thresh = .75 * (pow(10,6))\n",
    "#thresh_list = [thresh for x in np.unique(df['condition'])]\n",
    "thresh_list = np.exp([13.5,  13.5, 13.45,  13.45, 13.5, 13.5 , 13.45, 13.5])\n",
    "#thresh_list = [x*pow(10,6) for x in thresh_list]\n",
    "#print(f'Theshold: {thresh}')\n",
    "\n",
    "pdf_name = '_'.join([datetime.today().strftime('%Y-%m-%d'),replicate,drug,'DNA-histograms.pdf'])\n",
    "pdf_path = os.path.join(drug_dir,pdf_name)\n",
    "\n",
    "with PdfPages(pdf_path) as pdf:                 # COMMENT/UNCOMMENT FOR SAVING\n",
    "#if 1+1:\n",
    "\n",
    "    fig,ax = plt.subplots(1,1)\n",
    "    ax = sns.histplot(cleaned_data,bins=50)\n",
    "\n",
    "    ax.axvline(x=thresh)\n",
    "    ax.text(x=thresh,y=ax.get_ylim()[-1]/2,s=f'          Treshold: {thresh}')\n",
    "    plt.title('Aggregated Integrated DNA')      \n",
    "\n",
    "    if to_save:\n",
    "        pdf.savefig()                               \n",
    "        plt.close()                                 \n",
    "\n",
    "    perc_vals = []\n",
    "\n",
    "    for i,x in enumerate(np.unique(df['condition'])):\n",
    "\n",
    "        sub_df = df[df['condition'] == x]\n",
    "        sub_data = sub_df['DAPI-mean']*sub_df['area']\n",
    "\n",
    "        cleaned_data = sub_data[sub_data>np.percentile(sub_data,1)]\n",
    "        cleaned_data = cleaned_data[cleaned_data<np.percentile(sub_data,99)]\n",
    "\n",
    "        perc_2n = len(cleaned_data[cleaned_data<thresh_list[i]])/len(cleaned_data)\n",
    "        perc_4n = len(cleaned_data[cleaned_data>thresh_list[i]])/len(cleaned_data)\n",
    "\n",
    "        print(f'Condition {x}... %2n: {round(perc_2n*100,2)}')\n",
    "        perc_vals.append(perc_2n)\n",
    "\n",
    "        fig,ax = plt.subplots(figsize=(6,6))\n",
    "        sns.histplot(np.log(cleaned_data),bins=50,ax=ax)\n",
    "        #ax.axvline(x=thresh_list[i],color='red',linestyle='--')\n",
    "\n",
    "        ax.text(sum(ax.get_xlim())/2,\n",
    "                sum(ax.get_ylim())/2,\n",
    "                s=f'% 2N: {round(perc_2n*100,2)}',\n",
    "                ha='left',va='top')\n",
    "        plt.title(f'Condition {x}: Integrated DNA')\n",
    "        \n",
    "        if to_save:\n",
    "            pdf.savefig()                               # COMMENT/UNCOMMENT FOR SAVING\n",
    "            plt.close()                                 # COMMENT/UNCOMMENT FOR SAVING\n",
    "\n",
    "\n",
    "conditions_to_exclude = [1,3]\n",
    "\n",
    "\n",
    "\n",
    "fin_concentrations = [x for i,x in enumerate(concentrations) if i not in conditions_to_exclude]\n",
    "fin_percs = [x for i,x in enumerate(perc_vals) if i not in conditions_to_exclude]\n",
    "fin_percs[0] = .6   # control average across plate\n",
    "\n",
    "popt,pcov = curve_fit(sigmoid,fin_concentrations,fin_percs)\n",
    "x_fit = np.linspace(min(fin_concentrations),max(fin_concentrations),1000)\n",
    "y_fit = sigmoid(x_fit,*popt)\n",
    "\n",
    "IC50_y = ((np.max(y_fit)-np.min(y_fit))/2)+np.min(y_fit)\n",
    "IC50 = x_fit[list(y_fit).index(y_fit[np.abs(y_fit - IC50_y).argmin()])]\n",
    "\n",
    "fit_for_y = sigmoid(fin_concentrations,*popt)\n",
    "r_squared = r2_score(fin_percs,fit_for_y)\n",
    "print(r_squared)\n",
    "\n",
    "\n",
    "pdf_name = '_'.join([datetime.today().strftime('%Y-%m-%d'),replicate,drug,'DNA-annotated-drc.pdf'])\n",
    "pdf_path = os.path.join(drug_dir,pdf_name)\n",
    "\n",
    "\n",
    "#if 1:\n",
    "with PdfPages(pdf_path) as pdf:\n",
    "    l = plt.figure()\n",
    "    plt.scatter(fin_concentrations,fin_percs,label='Data',color='red')\n",
    "    plt.plot(x_fit,y_fit,label='Fitted Curve', color='blue')\n",
    "    plt.xscale('log')\n",
    "    plt.xlabel('Drug Concentrations')\n",
    "    plt.ylabel('% 2N DNA Content')\n",
    "    plt.legend()\n",
    "\n",
    "    plt.text(x=.5,y=np.average(fin_percs),s=f'R-Squared: {round(r_squared,2)} \\n IC-50: {round(IC50,2)}')\n",
    "    plt.title(label='Concentration v. Proportion 2n DNA Content')\n",
    "    plt.axvline(x=IC50,color='black')\n",
    "\n",
    "    if to_save:\n",
    "        pdf.savefig()\n",
    "        plt.close()"
   ]
  },
  {
   "cell_type": "code",
   "execution_count": 112,
   "metadata": {},
   "outputs": [
    {
     "name": "stdout",
     "output_type": "stream",
     "text": [
      "Theshold: 8.7\n",
      "Condition A... %Pos: 11.87\n",
      "Condition B... %Pos: 19.39\n",
      "Condition C... %Pos: 20.0\n",
      "Condition D... %Pos: 9.69\n",
      "Condition E... %Pos: 15.76\n",
      "Condition F... %Pos: 22.66\n",
      "Condition G... %Pos: 12.01\n",
      "Condition H... %Pos: 16.02\n"
     ]
    },
    {
     "ename": "RuntimeError",
     "evalue": "Optimal parameters not found: Number of calls to function has reached maxfev = 100000.",
     "output_type": "error",
     "traceback": [
      "\u001b[0;31m---------------------------------------------------------------------------\u001b[0m",
      "\u001b[0;31mRuntimeError\u001b[0m                              Traceback (most recent call last)",
      "Cell \u001b[0;32mIn[112], line 85\u001b[0m\n\u001b[1;32m     82\u001b[0m fin_concentrations \u001b[38;5;241m=\u001b[39m [x \u001b[38;5;28;01mfor\u001b[39;00m i,x \u001b[38;5;129;01min\u001b[39;00m \u001b[38;5;28menumerate\u001b[39m(concentrations) \u001b[38;5;28;01mif\u001b[39;00m i \u001b[38;5;129;01mnot\u001b[39;00m \u001b[38;5;129;01min\u001b[39;00m conditions_to_exclude]\n\u001b[1;32m     83\u001b[0m fin_percs \u001b[38;5;241m=\u001b[39m [x \u001b[38;5;28;01mfor\u001b[39;00m i,x \u001b[38;5;129;01min\u001b[39;00m \u001b[38;5;28menumerate\u001b[39m(perc_vals) \u001b[38;5;28;01mif\u001b[39;00m i \u001b[38;5;129;01mnot\u001b[39;00m \u001b[38;5;129;01min\u001b[39;00m conditions_to_exclude]\n\u001b[0;32m---> 85\u001b[0m popt,pcov \u001b[38;5;241m=\u001b[39m \u001b[43mcurve_fit\u001b[49m\u001b[43m(\u001b[49m\u001b[43msigmoid\u001b[49m\u001b[43m,\u001b[49m\n\u001b[1;32m     86\u001b[0m \u001b[43m                      \u001b[49m\u001b[43mfin_concentrations\u001b[49m\u001b[43m,\u001b[49m\n\u001b[1;32m     87\u001b[0m \u001b[43m                      \u001b[49m\u001b[43mfin_percs\u001b[49m\u001b[43m,\u001b[49m\n\u001b[1;32m     88\u001b[0m \u001b[43m                      \u001b[49m\u001b[43mmaxfev\u001b[49m\u001b[38;5;241;43m=\u001b[39;49m\u001b[38;5;241;43m100000\u001b[39;49m\u001b[43m)\u001b[49m\n\u001b[1;32m     90\u001b[0m x_fit \u001b[38;5;241m=\u001b[39m np\u001b[38;5;241m.\u001b[39mlinspace(\u001b[38;5;28mmin\u001b[39m(concentrations),\u001b[38;5;28mmax\u001b[39m(concentrations),\u001b[38;5;241m1000\u001b[39m)\n\u001b[1;32m     91\u001b[0m y_fit \u001b[38;5;241m=\u001b[39m sigmoid(x_fit,\u001b[38;5;241m*\u001b[39mpopt)\n",
      "File \u001b[0;32m/Library/Frameworks/Python.framework/Versions/3.11/lib/python3.11/site-packages/scipy/optimize/_minpack_py.py:982\u001b[0m, in \u001b[0;36mcurve_fit\u001b[0;34m(f, xdata, ydata, p0, sigma, absolute_sigma, check_finite, bounds, method, jac, full_output, nan_policy, **kwargs)\u001b[0m\n\u001b[1;32m    980\u001b[0m     cost \u001b[38;5;241m=\u001b[39m np\u001b[38;5;241m.\u001b[39msum(infodict[\u001b[38;5;124m'\u001b[39m\u001b[38;5;124mfvec\u001b[39m\u001b[38;5;124m'\u001b[39m] \u001b[38;5;241m*\u001b[39m\u001b[38;5;241m*\u001b[39m \u001b[38;5;241m2\u001b[39m)\n\u001b[1;32m    981\u001b[0m     \u001b[38;5;28;01mif\u001b[39;00m ier \u001b[38;5;129;01mnot\u001b[39;00m \u001b[38;5;129;01min\u001b[39;00m [\u001b[38;5;241m1\u001b[39m, \u001b[38;5;241m2\u001b[39m, \u001b[38;5;241m3\u001b[39m, \u001b[38;5;241m4\u001b[39m]:\n\u001b[0;32m--> 982\u001b[0m         \u001b[38;5;28;01mraise\u001b[39;00m \u001b[38;5;167;01mRuntimeError\u001b[39;00m(\u001b[38;5;124m\"\u001b[39m\u001b[38;5;124mOptimal parameters not found: \u001b[39m\u001b[38;5;124m\"\u001b[39m \u001b[38;5;241m+\u001b[39m errmsg)\n\u001b[1;32m    983\u001b[0m \u001b[38;5;28;01melse\u001b[39;00m:\n\u001b[1;32m    984\u001b[0m     \u001b[38;5;66;03m# Rename maxfev (leastsq) to max_nfev (least_squares), if specified.\u001b[39;00m\n\u001b[1;32m    985\u001b[0m     \u001b[38;5;28;01mif\u001b[39;00m \u001b[38;5;124m'\u001b[39m\u001b[38;5;124mmax_nfev\u001b[39m\u001b[38;5;124m'\u001b[39m \u001b[38;5;129;01mnot\u001b[39;00m \u001b[38;5;129;01min\u001b[39;00m kwargs:\n",
      "\u001b[0;31mRuntimeError\u001b[0m: Optimal parameters not found: Number of calls to function has reached maxfev = 100000."
     ]
    }
   ],
   "source": []
  },
  {
   "cell_type": "code",
   "execution_count": 98,
   "metadata": {},
   "outputs": [],
   "source": [
    "full_set = full_set + perc_vals"
   ]
  },
  {
   "cell_type": "code",
   "execution_count": null,
   "metadata": {},
   "outputs": [],
   "source": []
  },
  {
   "cell_type": "code",
   "execution_count": null,
   "metadata": {},
   "outputs": [],
   "source": []
  },
  {
   "cell_type": "code",
   "execution_count": 135,
   "metadata": {},
   "outputs": [
    {
     "name": "stdout",
     "output_type": "stream",
     "text": [
      "8\n",
      "8\n",
      "0.8381473230231617\n"
     ]
    }
   ],
   "source": [
    "fin_concentrations = [x for i,x in enumerate(concentrations)]\n",
    "print(len(fin_concentrations))\n",
    "fin_percs = [x for i,x in enumerate(av_set)]\n",
    "print(len(fin_percs))\n",
    "\n",
    "popt,pcov = curve_fit(sigmoid,\n",
    "                      fin_concentrations,\n",
    "                      fin_percs,\n",
    "                      maxfev=10000)\n",
    "\n",
    "x_fit = np.linspace(min(concentrations),max(concentrations),1000)\n",
    "y_fit = sigmoid(x_fit,*popt)\n",
    "\n",
    "IC50_y = ((np.max(y_fit)-np.min(y_fit))/2)+np.min(y_fit)\n",
    "IC50 = x_fit[list(y_fit).index(y_fit[np.abs(y_fit - IC50_y).argmin()])]\n",
    "\n",
    "fit_for_y = sigmoid(fin_concentrations,*popt)\n",
    "r_squared = r2_score(fin_percs,fit_for_y)\n",
    "print(r_squared)\n",
    "\n",
    "\n",
    "pdf_name = '_'.join([datetime.today().strftime('%Y-%m-%d'),replicate,drug,'EdU-annotated-drc.pdf'])\n",
    "pdf_path = os.path.join(drug_dir,pdf_name)\n",
    "\n",
    "\n",
    "with PdfPages(pdf_path) as pdf:\n",
    "    l = plt.figure()\n",
    "    plt.scatter(fin_concentrations,fin_percs,label='Data',color='red')\n",
    "    plt.plot(x_fit,y_fit,label='Fitted Curve', color='blue')\n",
    "    plt.xscale('log')\n",
    "    plt.xlabel('Drug Concentrations')\n",
    "    plt.ylabel('% Positive')\n",
    "    plt.legend()\n",
    "\n",
    "    plt.text(x=.5,y=np.average(perc_vals),s=f'R-Squared: {round(r_squared,2)} \\n IC-50: {round(IC50,2)}')\n",
    "    plt.title(label='Concentration v. Proportion EdU(+)')\n",
    "    plt.axvline(x=IC50,color='black')\n",
    "\n",
    "    pdf.savefig()\n",
    "    plt.close()"
   ]
  },
  {
   "cell_type": "code",
   "execution_count": 136,
   "metadata": {},
   "outputs": [
    {
     "data": {
      "text/plain": [
       "[0.2059146008808697,\n",
       " 0.22626920284480426,\n",
       " 0.23661104710584968,\n",
       " 0.26061937840665067,\n",
       " 0.2686977759659243,\n",
       " 0.28838635831591075,\n",
       " 0.2941615777361945,\n",
       " 0.3109520416315778]"
      ]
     },
     "execution_count": 136,
     "metadata": {},
     "output_type": "execute_result"
    }
   ],
   "source": [
    "av_set"
   ]
  },
  {
   "cell_type": "code",
   "execution_count": null,
   "metadata": {},
   "outputs": [],
   "source": []
  }
 ],
 "metadata": {
  "kernelspec": {
   "display_name": "Python 3",
   "language": "python",
   "name": "python3"
  },
  "language_info": {
   "codemirror_mode": {
    "name": "ipython",
    "version": 3
   },
   "file_extension": ".py",
   "mimetype": "text/x-python",
   "name": "python",
   "nbconvert_exporter": "python",
   "pygments_lexer": "ipython3",
   "version": "3.11.8"
  }
 },
 "nbformat": 4,
 "nbformat_minor": 2
}
