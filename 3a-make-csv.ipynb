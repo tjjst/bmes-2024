{
 "cells": [
  {
   "cell_type": "code",
   "execution_count": 15,
   "metadata": {},
   "outputs": [],
   "source": [
    "import os\n",
    "from tifffile import imread\n",
    "import numpy as np\n",
    "from skimage.measure import regionprops_table\n",
    "import pandas as pd "
   ]
  },
  {
   "cell_type": "code",
   "execution_count": 18,
   "metadata": {},
   "outputs": [
    {
     "name": "stdout",
     "output_type": "stream",
     "text": [
      "['oc3-cbpp', 'oc3-coar', 'oc8-cbpp', 'oc8-coar']\n"
     ]
    }
   ],
   "source": [
    "image_store_dir = r'R:\\data_analysis\\Tyler\\hgsc\\data\\hgsc-full-r2'\n",
    "\n",
    "dir_contents = [x for x in os.listdir(image_store_dir) if os.path.isdir(os.path.join(image_store_dir,x))]\n",
    "print(dir_contents)"
   ]
  },
  {
   "cell_type": "code",
   "execution_count": 19,
   "metadata": {},
   "outputs": [
    {
     "name": "stdout",
     "output_type": "stream",
     "text": [
      "oc3-cbpp\n",
      "berzosertib\n",
      "\toc3-cbpp_A-berzosertib.ome.tif\n",
      "\t\tImages + Masks Read.\n"
     ]
    },
    {
     "name": "stderr",
     "output_type": "stream",
     "text": [
      "C:\\Users\\Stallab\\AppData\\Local\\Temp\\ipykernel_47992\\371658197.py:48: FutureWarning: The behavior of DataFrame concatenation with empty or all-NA entries is deprecated. In a future version, this will no longer exclude empty or all-NA columns when determining the result dtypes. To retain the old behavior, exclude the relevant entries before the concat operation.\n",
      "  base_df = pd.concat([base_df,image_df])\n"
     ]
    },
    {
     "name": "stdout",
     "output_type": "stream",
     "text": [
      "\toc3-cbpp_B-berzosertib.ome.tif\n",
      "\t\tImages + Masks Read.\n",
      "\toc3-cbpp_C-berzosertib.ome.tif\n",
      "\t\tImages + Masks Read.\n",
      "\toc3-cbpp_D-berzosertib.ome.tif\n",
      "\t\tImages + Masks Read.\n",
      "\toc3-cbpp_E-berzosertib.ome.tif\n",
      "\t\tImages + Masks Read.\n",
      "\toc3-cbpp_F-berzosertib.ome.tif\n",
      "\t\tImages + Masks Read.\n",
      "\toc3-cbpp_G-berzosertib.ome.tif\n",
      "\t\tImages + Masks Read.\n",
      "\toc3-cbpp_H-berzosertib.ome.tif\n",
      "\t\tImages + Masks Read.\n",
      "cvt\n",
      "\toc3-cbpp_A-cvt.ome.tif\n",
      "\t\tImages + Masks Read.\n"
     ]
    },
    {
     "name": "stderr",
     "output_type": "stream",
     "text": [
      "C:\\Users\\Stallab\\AppData\\Local\\Temp\\ipykernel_47992\\371658197.py:48: FutureWarning: The behavior of DataFrame concatenation with empty or all-NA entries is deprecated. In a future version, this will no longer exclude empty or all-NA columns when determining the result dtypes. To retain the old behavior, exclude the relevant entries before the concat operation.\n",
      "  base_df = pd.concat([base_df,image_df])\n"
     ]
    },
    {
     "name": "stdout",
     "output_type": "stream",
     "text": [
      "\toc3-cbpp_B-cvt.ome.tif\n",
      "\t\tImages + Masks Read.\n",
      "\toc3-cbpp_C-cvt.ome.tif\n",
      "\t\tImages + Masks Read.\n",
      "\toc3-cbpp_D-cvt.ome.tif\n",
      "\t\tImages + Masks Read.\n",
      "\toc3-cbpp_E-cvt.ome.tif\n",
      "\t\tImages + Masks Read.\n",
      "\toc3-cbpp_F-cvt.ome.tif\n",
      "\t\tImages + Masks Read.\n",
      "\toc3-cbpp_G-cvt.ome.tif\n",
      "\t\tImages + Masks Read.\n",
      "\toc3-cbpp_H-cvt.ome.tif\n",
      "\t\tImages + Masks Read.\n",
      "pf\n",
      "\toc3-cbpp_A-pf.ome.tif\n",
      "\t\tImages + Masks Read.\n"
     ]
    },
    {
     "name": "stderr",
     "output_type": "stream",
     "text": [
      "C:\\Users\\Stallab\\AppData\\Local\\Temp\\ipykernel_47992\\371658197.py:48: FutureWarning: The behavior of DataFrame concatenation with empty or all-NA entries is deprecated. In a future version, this will no longer exclude empty or all-NA columns when determining the result dtypes. To retain the old behavior, exclude the relevant entries before the concat operation.\n",
      "  base_df = pd.concat([base_df,image_df])\n"
     ]
    },
    {
     "name": "stdout",
     "output_type": "stream",
     "text": [
      "\toc3-cbpp_B-pf.ome.tif\n",
      "\t\tImages + Masks Read.\n",
      "\toc3-cbpp_C-pf.ome.tif\n",
      "\t\tImages + Masks Read.\n",
      "\toc3-cbpp_D-pf.ome.tif\n",
      "\t\tImages + Masks Read.\n",
      "\toc3-cbpp_E-pf.ome.tif\n",
      "\t\tImages + Masks Read.\n",
      "\toc3-cbpp_F-pf.ome.tif\n",
      "\t\tImages + Masks Read.\n",
      "\toc3-cbpp_G-pf.ome.tif\n",
      "\t\tImages + Masks Read.\n",
      "\toc3-cbpp_H-pf.ome.tif\n",
      "\t\tImages + Masks Read.\n",
      "palbociclib\n",
      "\toc3-cbpp_A-palbociclib.ome.tif\n",
      "\t\tImages + Masks Read.\n"
     ]
    },
    {
     "name": "stderr",
     "output_type": "stream",
     "text": [
      "C:\\Users\\Stallab\\AppData\\Local\\Temp\\ipykernel_47992\\371658197.py:48: FutureWarning: The behavior of DataFrame concatenation with empty or all-NA entries is deprecated. In a future version, this will no longer exclude empty or all-NA columns when determining the result dtypes. To retain the old behavior, exclude the relevant entries before the concat operation.\n",
      "  base_df = pd.concat([base_df,image_df])\n"
     ]
    },
    {
     "name": "stdout",
     "output_type": "stream",
     "text": [
      "\toc3-cbpp_B-palbociclib.ome.tif\n",
      "\t\tImages + Masks Read.\n",
      "\toc3-cbpp_C-palbociclib.ome.tif\n",
      "\t\tImages + Masks Read.\n",
      "\toc3-cbpp_D-palbociclib.ome.tif\n",
      "\t\tImages + Masks Read.\n",
      "\toc3-cbpp_E-palbociclib.ome.tif\n",
      "\t\tImages + Masks Read.\n",
      "\toc3-cbpp_F-palbociclib.ome.tif\n",
      "\t\tImages + Masks Read.\n",
      "\toc3-cbpp_G-palbociclib.ome.tif\n",
      "\t\tImages + Masks Read.\n",
      "\toc3-cbpp_H-palbociclib.ome.tif\n",
      "\t\tImages + Masks Read.\n",
      "oc3-coar\n",
      "berzosertib\n",
      "cvt\n",
      "pf\n",
      "palbociclib\n",
      "oc8-cbpp\n",
      "berzosertib\n",
      "cvt\n",
      "pf\n",
      "palbociclib\n",
      "oc8-coar\n",
      "berzosertib\n",
      "cvt\n",
      "pf\n",
      "palbociclib\n"
     ]
    }
   ],
   "source": [
    "drug_list = ['berzosertib','cvt','pf','palbociclib']\n",
    "\n",
    "for folder in dir_contents:\n",
    "    print(folder)\n",
    "    folder_dir = os.path.join(image_store_dir,folder)\n",
    "\n",
    "    ims = [x for x in os.listdir(folder_dir) if '.ome.tif' in x]\n",
    "\n",
    "    for drug in drug_list:\n",
    "        print(drug)\n",
    "        drug_image_list = [x for x in ims if drug in x]\n",
    "        csv_path = os.path.join('R:\\data_analysis\\Tyler\\hgsc\\data\\hgsc-full-r2\\oc3-cbpp',drug+'.csv')\n",
    "        if os.path.isfile(csv_path): continue\n",
    "\n",
    "        base_made = False\n",
    "\n",
    "        for image in drug_image_list:\n",
    "\n",
    "            print(f'\\t{image}')\n",
    "            im_path = os.path.join(folder_dir,image)\n",
    "            mask_path = im_path.replace('.ome','_segmented')\n",
    "\n",
    "            if not os.path.isfile(im_path) or not os.path.isfile(mask_path): continue\n",
    "\n",
    "            im = imread(im_path)\n",
    "            mask = imread(mask_path)\n",
    "            print('\\t\\tImages + Masks Read.')\n",
    "\n",
    "            image_df = pd.DataFrame(regionprops_table(mask,properties=['label','area']))\n",
    "            image_df['DAPI-mean'] = regionprops_table(mask,\n",
    "                  intensity_image=im[0],\n",
    "                  properties=['intensity_mean'])['intensity_mean']\n",
    "\n",
    "            image_df['EdU-mean'] = regionprops_table(mask,\n",
    "                  intensity_image=im[1],\n",
    "                  properties=['intensity_mean'])['intensity_mean']\n",
    "            \n",
    "            image_df['n#'] = image_store_dir[-2:]\n",
    "            image_df['cell line'] = folder.split('-')[0]\n",
    "            image_df['drug'] = drug\n",
    "            image_df['condition'] = image.split('_')[1].split('-')[0]\n",
    "\n",
    "            if base_made == False:\n",
    "                base_made=True\n",
    "\n",
    "                base_df = pd.DataFrame(columns=['n#','cell line','drug','condition','label','area','DAPI-mean','EdU-mean'])\n",
    "\n",
    "            base_df = pd.concat([base_df,image_df])\n",
    "\n",
    "        base_df.to_csv(csv_path)\n",
    "\n",
    "        \n",
    "\n",
    "            "
   ]
  },
  {
   "cell_type": "code",
   "execution_count": null,
   "metadata": {},
   "outputs": [],
   "source": [
    "base_df.to_csv(os.path.join('R:\\data_analysis\\Tyler\\hgsc\\data\\hgsc-full-r2\\oc3-cbpp',drug+'.csv'))"
   ]
  },
  {
   "cell_type": "code",
   "execution_count": null,
   "metadata": {},
   "outputs": [],
   "source": []
  }
 ],
 "metadata": {
  "kernelspec": {
   "display_name": "napari-env-gpu",
   "language": "python",
   "name": "python3"
  },
  "language_info": {
   "codemirror_mode": {
    "name": "ipython",
    "version": 3
   },
   "file_extension": ".py",
   "mimetype": "text/x-python",
   "name": "python",
   "nbconvert_exporter": "python",
   "pygments_lexer": "ipython3",
   "version": "3.10.14"
  }
 },
 "nbformat": 4,
 "nbformat_minor": 2
}
