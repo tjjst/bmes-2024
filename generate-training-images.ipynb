{
 "cells": [
  {
   "cell_type": "code",
   "execution_count": 1,
   "metadata": {},
   "outputs": [],
   "source": [
    "import os\n",
    "from tifffile import imread,imwrite\n",
    "import napari\n",
    "import numpy as np\n",
    "import random\n",
    "\n",
    "from napari.settings import get_settings\n",
    "get_settings().application.ipy_interactive = True"
   ]
  },
  {
   "cell_type": "code",
   "execution_count": 10,
   "metadata": {},
   "outputs": [],
   "source": [
    "cell_line = 'ovcar3'\n",
    "images_dir = r'R:\\data_analysis\\Tyler\\hgsc\\data\\hgsc-full-r1\\oc3-cbpp'\n",
    "\n",
    "training_dir = r'R:\\data_analysis\\Tyler\\hgsc\\model-training'\n",
    "training_iter_dir = os.path.join(training_dir,cell_line)\n",
    "\n",
    "if not os.path.isdir(training_iter_dir): os.mkdir(training_iter_dir)\n",
    "\n",
    "total_image_list = [os.path.join(images_dir,x) for x in os.listdir(images_dir) if '.tif' in x]"
   ]
  },
  {
   "cell_type": "code",
   "execution_count": 31,
   "metadata": {},
   "outputs": [],
   "source": [
    "imlist_to_train = [random.randint(0,len(total_image_list)) for x in range(5)]\n",
    "x = 0\n",
    "#smims_saved = 1"
   ]
  },
  {
   "cell_type": "markdown",
   "metadata": {},
   "source": [
    "run below iteratively\n"
   ]
  },
  {
   "cell_type": "code",
   "execution_count": 44,
   "metadata": {},
   "outputs": [
    {
     "data": {
      "text/plain": [
       "<Image layer 'im' at 0x1f251a9e0e0>"
      ]
     },
     "execution_count": 44,
     "metadata": {},
     "output_type": "execute_result"
    }
   ],
   "source": [
    "#im = imread(total_image_list[imlist_to_train[x]])\n",
    "im = imread(total_image_list[25])\n",
    "v = napari.Viewer()\n",
    "v.add_image(im)"
   ]
  },
  {
   "cell_type": "code",
   "execution_count": 45,
   "metadata": {},
   "outputs": [],
   "source": [
    "v.layers['Shapes'].data\n",
    "\n",
    "for n in v.layers['Shapes'].data:\n",
    "\n",
    "    x_coords = [int(y[2]) for y in n]\n",
    "    y_coords = [int(y[1]) for y in n]\n",
    "\n",
    "    smim = im[0][min(y_coords):max(y_coords),min(x_coords):max(x_coords)]\n",
    "\n",
    "    imwrite(os.path.join(training_iter_dir,f'train{smims_saved}')+'.tif',\n",
    "            smim)\n",
    "    \n",
    "    smims_saved = smims_saved+1\n",
    "\n",
    "x = x+1"
   ]
  },
  {
   "cell_type": "code",
   "execution_count": 36,
   "metadata": {},
   "outputs": [],
   "source": [
    "# if want to override current image\n",
    "x = x+1"
   ]
  },
  {
   "cell_type": "code",
   "execution_count": null,
   "metadata": {},
   "outputs": [],
   "source": []
  }
 ],
 "metadata": {
  "kernelspec": {
   "display_name": "napari-env-gpu",
   "language": "python",
   "name": "python3"
  },
  "language_info": {
   "codemirror_mode": {
    "name": "ipython",
    "version": 3
   },
   "file_extension": ".py",
   "mimetype": "text/x-python",
   "name": "python",
   "nbconvert_exporter": "python",
   "pygments_lexer": "ipython3",
   "version": "3.10.14"
  }
 },
 "nbformat": 4,
 "nbformat_minor": 2
}
