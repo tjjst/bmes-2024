{
 "cells": [
  {
   "cell_type": "code",
   "execution_count": 1,
   "metadata": {},
   "outputs": [],
   "source": [
    "import os\n",
    "from skimage.measure import regionprops_table,regionprops\n",
    "from tifffile import imread\n",
    "import pandas as pd\n",
    "import numpy as np\n",
    "import matplotlib.pyplot as plt\n",
    "import napari\n",
    "import seaborn as sns"
   ]
  },
  {
   "cell_type": "code",
   "execution_count": 97,
   "metadata": {},
   "outputs": [],
   "source": [
    "store_dir = r'R:\\data_analysis\\Tyler\\hgsc\\data\\hgsc-full-r1\\oc3-cbpp'\n",
    "\n",
    "im = imread(os.path.join(store_dir,'oc3-cbpp_A-palbociclib.ome.tif'))\n",
    "mask = imread(os.path.join(store_dir,'oc3-cbpp_A-palbociclib_segmented.tif'))"
   ]
  },
  {
   "cell_type": "code",
   "execution_count": 91,
   "metadata": {},
   "outputs": [
    {
     "data": {
      "text/html": [
       "<div>\n",
       "<style scoped>\n",
       "    .dataframe tbody tr th:only-of-type {\n",
       "        vertical-align: middle;\n",
       "    }\n",
       "\n",
       "    .dataframe tbody tr th {\n",
       "        vertical-align: top;\n",
       "    }\n",
       "\n",
       "    .dataframe thead th {\n",
       "        text-align: right;\n",
       "    }\n",
       "</style>\n",
       "<table border=\"1\" class=\"dataframe\">\n",
       "  <thead>\n",
       "    <tr style=\"text-align: right;\">\n",
       "      <th></th>\n",
       "      <th>label</th>\n",
       "      <th>area</th>\n",
       "      <th>DAPI-mean</th>\n",
       "      <th>EdU-mean</th>\n",
       "    </tr>\n",
       "  </thead>\n",
       "  <tbody>\n",
       "    <tr>\n",
       "      <th>0</th>\n",
       "      <td>1</td>\n",
       "      <td>3235.0</td>\n",
       "      <td>445.229985</td>\n",
       "      <td>11884.588872</td>\n",
       "    </tr>\n",
       "    <tr>\n",
       "      <th>1</th>\n",
       "      <td>2</td>\n",
       "      <td>2683.0</td>\n",
       "      <td>367.137160</td>\n",
       "      <td>2386.950801</td>\n",
       "    </tr>\n",
       "    <tr>\n",
       "      <th>2</th>\n",
       "      <td>3</td>\n",
       "      <td>1254.0</td>\n",
       "      <td>504.057416</td>\n",
       "      <td>1870.708931</td>\n",
       "    </tr>\n",
       "    <tr>\n",
       "      <th>3</th>\n",
       "      <td>4</td>\n",
       "      <td>2750.0</td>\n",
       "      <td>580.956000</td>\n",
       "      <td>2340.645818</td>\n",
       "    </tr>\n",
       "    <tr>\n",
       "      <th>4</th>\n",
       "      <td>5</td>\n",
       "      <td>2318.0</td>\n",
       "      <td>633.225626</td>\n",
       "      <td>2382.525453</td>\n",
       "    </tr>\n",
       "    <tr>\n",
       "      <th>...</th>\n",
       "      <td>...</td>\n",
       "      <td>...</td>\n",
       "      <td>...</td>\n",
       "      <td>...</td>\n",
       "    </tr>\n",
       "    <tr>\n",
       "      <th>6727</th>\n",
       "      <td>6728</td>\n",
       "      <td>3684.0</td>\n",
       "      <td>277.037731</td>\n",
       "      <td>2695.016015</td>\n",
       "    </tr>\n",
       "    <tr>\n",
       "      <th>6728</th>\n",
       "      <td>6729</td>\n",
       "      <td>1879.0</td>\n",
       "      <td>269.805216</td>\n",
       "      <td>3524.218201</td>\n",
       "    </tr>\n",
       "    <tr>\n",
       "      <th>6729</th>\n",
       "      <td>6730</td>\n",
       "      <td>2571.0</td>\n",
       "      <td>312.036951</td>\n",
       "      <td>8938.328277</td>\n",
       "    </tr>\n",
       "    <tr>\n",
       "      <th>6730</th>\n",
       "      <td>6731</td>\n",
       "      <td>527.0</td>\n",
       "      <td>593.201139</td>\n",
       "      <td>2646.068311</td>\n",
       "    </tr>\n",
       "    <tr>\n",
       "      <th>6731</th>\n",
       "      <td>6732</td>\n",
       "      <td>1346.0</td>\n",
       "      <td>304.121842</td>\n",
       "      <td>3670.261516</td>\n",
       "    </tr>\n",
       "  </tbody>\n",
       "</table>\n",
       "<p>6732 rows × 4 columns</p>\n",
       "</div>"
      ],
      "text/plain": [
       "      label    area   DAPI-mean      EdU-mean\n",
       "0         1  3235.0  445.229985  11884.588872\n",
       "1         2  2683.0  367.137160   2386.950801\n",
       "2         3  1254.0  504.057416   1870.708931\n",
       "3         4  2750.0  580.956000   2340.645818\n",
       "4         5  2318.0  633.225626   2382.525453\n",
       "...     ...     ...         ...           ...\n",
       "6727   6728  3684.0  277.037731   2695.016015\n",
       "6728   6729  1879.0  269.805216   3524.218201\n",
       "6729   6730  2571.0  312.036951   8938.328277\n",
       "6730   6731   527.0  593.201139   2646.068311\n",
       "6731   6732  1346.0  304.121842   3670.261516\n",
       "\n",
       "[6732 rows x 4 columns]"
      ]
     },
     "execution_count": 91,
     "metadata": {},
     "output_type": "execute_result"
    }
   ],
   "source": [
    "table = pd.DataFrame(regionprops_table(mask,properties=('label','area')))\n",
    "\n",
    "table['DAPI-mean'] = regionprops_table(mask,\n",
    "                  intensity_image=im[0],\n",
    "                  properties=['intensity_mean'])['intensity_mean']\n",
    "\n",
    "table['EdU-mean'] = regionprops_table(mask,\n",
    "                  intensity_image=im[1],\n",
    "                  properties=['intensity_mean'])['intensity_mean']\n",
    "\n",
    "table"
   ]
  },
  {
   "cell_type": "code",
   "execution_count": 93,
   "metadata": {},
   "outputs": [
    {
     "data": {
      "text/plain": [
       "<matplotlib.lines.Line2D at 0x1e49fa1c3a0>"
      ]
     },
     "execution_count": 93,
     "metadata": {},
     "output_type": "execute_result"
    },
    {
     "data": {
      "image/png": "[encoded data removed]",
      "text/plain": [
       "<Figure size 640x480 with 1 Axes>"
      ]
     },
     "metadata": {},
     "output_type": "display_data"
    }
   ],
   "source": [
    "data = table['EdU-mean']\n",
    "\n",
    "fig,ax = plt.subplots(1,1)\n",
    "\n",
    "\n",
    "#ax = sns.histplot(data, bins=100)#, size=0.1, alpha=0.2)\n",
    "ax = sns.histplot(np.log(data),bins=1000)\n",
    "\n",
    "threshold = 8.3\n",
    "ax.axvline(x=threshold)"
   ]
  },
  {
   "cell_type": "code",
   "execution_count": 94,
   "metadata": {},
   "outputs": [
    {
     "name": "stdout",
     "output_type": "stream",
     "text": [
      "EdU Intensity: 4023.872393822313\n"
     ]
    }
   ],
   "source": [
    "fin_int = np.exp(threshold)\n",
    "print(f'EdU Intensity: {fin_int}')"
   ]
  },
  {
   "cell_type": "code",
   "execution_count": 95,
   "metadata": {},
   "outputs": [
    {
     "name": "stdout",
     "output_type": "stream",
     "text": [
      "0.3593285799168152\n"
     ]
    }
   ],
   "source": [
    "perc_pos = len(table[table['EdU-mean'] > fin_int])/len(table['EdU-mean'])\n",
    "print(perc_pos)"
   ]
  },
  {
   "cell_type": "code",
   "execution_count": 69,
   "metadata": {},
   "outputs": [
    {
     "data": {
      "text/html": [
       "<div>\n",
       "<style scoped>\n",
       "    .dataframe tbody tr th:only-of-type {\n",
       "        vertical-align: middle;\n",
       "    }\n",
       "\n",
       "    .dataframe tbody tr th {\n",
       "        vertical-align: top;\n",
       "    }\n",
       "\n",
       "    .dataframe thead th {\n",
       "        text-align: right;\n",
       "    }\n",
       "</style>\n",
       "<table border=\"1\" class=\"dataframe\">\n",
       "  <thead>\n",
       "    <tr style=\"text-align: right;\">\n",
       "      <th></th>\n",
       "      <th>Drug</th>\n",
       "      <th>Condition</th>\n",
       "      <th>% EdU</th>\n",
       "      <th>% Post-S</th>\n",
       "    </tr>\n",
       "  </thead>\n",
       "  <tbody>\n",
       "    <tr>\n",
       "      <th>0</th>\n",
       "      <td>Berzosertib</td>\n",
       "      <td>Ctrl</td>\n",
       "      <td>0.354962</td>\n",
       "      <td>NaN</td>\n",
       "    </tr>\n",
       "    <tr>\n",
       "      <th>1</th>\n",
       "      <td>Berzosertib</td>\n",
       "      <td>B</td>\n",
       "      <td>0.844560</td>\n",
       "      <td>NaN</td>\n",
       "    </tr>\n",
       "    <tr>\n",
       "      <th>2</th>\n",
       "      <td>Berzosertib</td>\n",
       "      <td>C</td>\n",
       "      <td>0.415025</td>\n",
       "      <td>NaN</td>\n",
       "    </tr>\n",
       "    <tr>\n",
       "      <th>3</th>\n",
       "      <td>Berzosertib</td>\n",
       "      <td>D</td>\n",
       "      <td>0.340909</td>\n",
       "      <td>NaN</td>\n",
       "    </tr>\n",
       "  </tbody>\n",
       "</table>\n",
       "</div>"
      ],
      "text/plain": [
       "          Drug Condition     % EdU  % Post-S\n",
       "0  Berzosertib      Ctrl  0.354962       NaN\n",
       "1  Berzosertib         B  0.844560       NaN\n",
       "2  Berzosertib         C  0.415025       NaN\n",
       "3  Berzosertib         D  0.340909       NaN"
      ]
     },
     "execution_count": 69,
     "metadata": {},
     "output_type": "execute_result"
    }
   ],
   "source": [
    "#total_df = pd.DataFrame(columns=['Drug','Condition',f'% EdU',f'% Post-S'])\n",
    "total_df"
   ]
  },
  {
   "cell_type": "code",
   "execution_count": 96,
   "metadata": {},
   "outputs": [
    {
     "data": {
      "text/html": [
       "<div>\n",
       "<style scoped>\n",
       "    .dataframe tbody tr th:only-of-type {\n",
       "        vertical-align: middle;\n",
       "    }\n",
       "\n",
       "    .dataframe tbody tr th {\n",
       "        vertical-align: top;\n",
       "    }\n",
       "\n",
       "    .dataframe thead th {\n",
       "        text-align: right;\n",
       "    }\n",
       "</style>\n",
       "<table border=\"1\" class=\"dataframe\">\n",
       "  <thead>\n",
       "    <tr style=\"text-align: right;\">\n",
       "      <th></th>\n",
       "      <th>Drug</th>\n",
       "      <th>Condition</th>\n",
       "      <th>% EdU</th>\n",
       "      <th>% Post-S</th>\n",
       "    </tr>\n",
       "  </thead>\n",
       "  <tbody>\n",
       "    <tr>\n",
       "      <th>0</th>\n",
       "      <td>Berzosertib</td>\n",
       "      <td>Ctrl</td>\n",
       "      <td>0.354962</td>\n",
       "      <td>NaN</td>\n",
       "    </tr>\n",
       "    <tr>\n",
       "      <th>1</th>\n",
       "      <td>Berzosertib</td>\n",
       "      <td>B</td>\n",
       "      <td>0.844560</td>\n",
       "      <td>NaN</td>\n",
       "    </tr>\n",
       "    <tr>\n",
       "      <th>2</th>\n",
       "      <td>Berzosertib</td>\n",
       "      <td>C</td>\n",
       "      <td>0.415025</td>\n",
       "      <td>NaN</td>\n",
       "    </tr>\n",
       "    <tr>\n",
       "      <th>3</th>\n",
       "      <td>Berzosertib</td>\n",
       "      <td>D</td>\n",
       "      <td>0.340909</td>\n",
       "      <td>NaN</td>\n",
       "    </tr>\n",
       "    <tr>\n",
       "      <th>4</th>\n",
       "      <td>Berzosertib</td>\n",
       "      <td>E</td>\n",
       "      <td>0.347126</td>\n",
       "      <td>NaN</td>\n",
       "    </tr>\n",
       "    <tr>\n",
       "      <th>5</th>\n",
       "      <td>Berzosertib</td>\n",
       "      <td>F</td>\n",
       "      <td>0.371482</td>\n",
       "      <td>NaN</td>\n",
       "    </tr>\n",
       "    <tr>\n",
       "      <th>6</th>\n",
       "      <td>Berzosertib</td>\n",
       "      <td>G</td>\n",
       "      <td>0.359329</td>\n",
       "      <td>NaN</td>\n",
       "    </tr>\n",
       "  </tbody>\n",
       "</table>\n",
       "</div>"
      ],
      "text/plain": [
       "          Drug Condition     % EdU  % Post-S\n",
       "0  Berzosertib      Ctrl  0.354962       NaN\n",
       "1  Berzosertib         B  0.844560       NaN\n",
       "2  Berzosertib         C  0.415025       NaN\n",
       "3  Berzosertib         D  0.340909       NaN\n",
       "4  Berzosertib         E  0.347126       NaN\n",
       "5  Berzosertib         F  0.371482       NaN\n",
       "6  Berzosertib         G  0.359329       NaN"
      ]
     },
     "execution_count": 96,
     "metadata": {},
     "output_type": "execute_result"
    }
   ],
   "source": [
    "entry = { 'Drug': 'Berzosertib',\n",
    "           'Condition': 'G',\n",
    "           f'% EdU': perc_pos,\n",
    "           f'% Post-S Phase': 0}\n",
    "\n",
    "total_df.loc[len(total_df)] = entry\n",
    "\n",
    "total_df"
   ]
  },
  {
   "cell_type": "code",
   "execution_count": 80,
   "metadata": {},
   "outputs": [
    {
     "data": {
      "text/plain": [
       "<Labels layer 'mask' at 0x1e465b38c10>"
      ]
     },
     "execution_count": 80,
     "metadata": {},
     "output_type": "execute_result"
    }
   ],
   "source": [
    "v = napari.Viewer()\n",
    "\n",
    "v.add_image(im)\n",
    "v.add_labels(mask)"
   ]
  },
  {
   "cell_type": "code",
   "execution_count": null,
   "metadata": {},
   "outputs": [],
   "source": []
  },
  {
   "cell_type": "code",
   "execution_count": 169,
   "metadata": {},
   "outputs": [
    {
     "data": {
      "text/plain": [
       "<matplotlib.lines.Line2D at 0x15fdac59c60>"
      ]
     },
     "execution_count": 169,
     "metadata": {},
     "output_type": "execute_result"
    },
    {
     "data": {
      "image/png": "[encoded data removed]",
      "text/plain": [
       "<Figure size 640x480 with 1 Axes>"
      ]
     },
     "metadata": {},
     "output_type": "display_data"
    }
   ],
   "source": [
    "data = table['DAPI-mean']*table['area']\n",
    "\n",
    "fig,ax = plt.subplots(1,1)\n",
    "\n",
    "\n",
    "ax = sns.histplot(data, bins=150)#, size=0.1, alpha=0.2)\n",
    "#ax = sns.histplot(np.log(data),bins=100)\n",
    "\n",
    "threshold = 1500000\n",
    "ax.axvline(x=threshold)"
   ]
  }
 ],
 "metadata": {
  "kernelspec": {
   "display_name": "napari-env-gpu",
   "language": "python",
   "name": "python3"
  },
  "language_info": {
   "codemirror_mode": {
    "name": "ipython",
    "version": 3
   },
   "file_extension": ".py",
   "mimetype": "text/x-python",
   "name": "python",
   "nbconvert_exporter": "python",
   "pygments_lexer": "ipython3",
   "version": "3.10.14"
  }
 },
 "nbformat": 4,
 "nbformat_minor": 2
}
