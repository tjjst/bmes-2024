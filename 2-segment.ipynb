{
 "cells": [
  {
   "cell_type": "code",
   "execution_count": 6,
   "metadata": {},
   "outputs": [],
   "source": [
    "from tifffile import imread,imwrite\n",
    "import os\n",
    "import platform\n",
    "import numpy as np\n",
    "import napari\n",
    "import time\n",
    "from cellpose import models\n",
    "import dask.array as da"
   ]
  },
  {
   "cell_type": "code",
   "execution_count": 7,
   "metadata": {},
   "outputs": [
    {
     "name": "stdout",
     "output_type": "stream",
     "text": [
      "['oc3-cbpp', 'oc3-coar', 'oc8-cbpp', 'oc8-coar']\n"
     ]
    }
   ],
   "source": [
    "image_store_dir = r'R:\\data_analysis\\Tyler\\hgsc\\data\\hgsc-full-r2'\n",
    "\n",
    "dir_contents = [x for x in os.listdir(image_store_dir)]\n",
    "print(dir_contents)"
   ]
  },
  {
   "cell_type": "code",
   "execution_count": 8,
   "metadata": {},
   "outputs": [
    {
     "name": "stdout",
     "output_type": "stream",
     "text": [
      "oc3-cbpp\n",
      "\toc3-cbpp_A-berzosertib.ome.tif\n"
     ]
    },
    {
     "name": "stderr",
     "output_type": "stream",
     "text": [
      "WARNING: image is very large, not using gpu to compute flows from masks for QC step flow_threshold\n"
     ]
    },
    {
     "name": "stdout",
     "output_type": "stream",
     "text": [
      "\t\tSegmented in 513.55s\n",
      "\toc3-cbpp_A-cvt.ome.tif\n"
     ]
    },
    {
     "name": "stderr",
     "output_type": "stream",
     "text": [
      "WARNING: image is very large, not using gpu to compute flows from masks for QC step flow_threshold\n"
     ]
    },
    {
     "name": "stdout",
     "output_type": "stream",
     "text": [
      "\t\tSegmented in 294.78s\n",
      "\toc3-cbpp_A-palbociclib.ome.tif\n"
     ]
    },
    {
     "name": "stderr",
     "output_type": "stream",
     "text": [
      "WARNING: image is very large, not using gpu to compute flows from masks for QC step flow_threshold\n"
     ]
    },
    {
     "name": "stdout",
     "output_type": "stream",
     "text": [
      "\t\tSegmented in 392.92s\n",
      "\toc3-cbpp_A-pf.ome.tif\n"
     ]
    },
    {
     "name": "stderr",
     "output_type": "stream",
     "text": [
      "WARNING: image is very large, not using gpu to compute flows from masks for QC step flow_threshold\n"
     ]
    },
    {
     "name": "stdout",
     "output_type": "stream",
     "text": [
      "\t\tSegmented in 363.72s\n",
      "\toc3-cbpp_B-berzosertib.ome.tif\n"
     ]
    },
    {
     "name": "stderr",
     "output_type": "stream",
     "text": [
      "WARNING: image is very large, not using gpu to compute flows from masks for QC step flow_threshold\n"
     ]
    },
    {
     "name": "stdout",
     "output_type": "stream",
     "text": [
      "\t\tSegmented in 293.58s\n",
      "\toc3-cbpp_B-cvt.ome.tif\n"
     ]
    },
    {
     "name": "stderr",
     "output_type": "stream",
     "text": [
      "WARNING: image is very large, not using gpu to compute flows from masks for QC step flow_threshold\n"
     ]
    },
    {
     "name": "stdout",
     "output_type": "stream",
     "text": [
      "\t\tSegmented in 300.29s\n",
      "\toc3-cbpp_B-palbociclib.ome.tif\n"
     ]
    },
    {
     "name": "stderr",
     "output_type": "stream",
     "text": [
      "WARNING: image is very large, not using gpu to compute flows from masks for QC step flow_threshold\n"
     ]
    },
    {
     "name": "stdout",
     "output_type": "stream",
     "text": [
      "\t\tSegmented in 244.36s\n",
      "\toc3-cbpp_B-pf.ome.tif\n"
     ]
    },
    {
     "name": "stderr",
     "output_type": "stream",
     "text": [
      "WARNING: image is very large, not using gpu to compute flows from masks for QC step flow_threshold\n"
     ]
    }
   ],
   "source": [
    "folders_to_segment = ['oc3-cbpp', 'oc3-coar', 'oc8-cbpp', 'oc8-coar']\n",
    "\n",
    "\n",
    "for folder in folders_to_segment:\n",
    "    print(folder)\n",
    "\n",
    "    path_to_segmentation_algorithm = os.path.join(r'R:\\data_analysis\\Tyler\\hgsc\\model-training\\ovcar3\\models','CP_20240722_165045')\n",
    "\n",
    "\n",
    "    model = models.CellposeModel(pretrained_model=path_to_segmentation_algorithm,\n",
    "                             gpu=True)\n",
    "\n",
    "    folder_dir = os.path.join(image_store_dir,folder)\n",
    "\n",
    "    for im_name in os.listdir(folder_dir):\n",
    "        print(f'\\t{im_name}')\n",
    "        save_name = im_name.replace('.ome.tif','_segmented.tif')\n",
    "        \n",
    "        if os.path.isfile(save_name): \n",
    "            continue\n",
    "\n",
    "        st = time.time()\n",
    "        im = imread(os.path.join(folder_dir,im_name))\n",
    "        \n",
    "        masks,_,_ = model.eval(im[0])\n",
    "        print(f'\\t\\tSegmented in {round(time.time()-st,2)}s')\n",
    "\n",
    "        imwrite(os.path.join(folder_dir,save_name),masks)"
   ]
  }
 ],
 "metadata": {
  "kernelspec": {
   "display_name": "napari-env-gpu",
   "language": "python",
   "name": "python3"
  },
  "language_info": {
   "codemirror_mode": {
    "name": "ipython",
    "version": 3
   },
   "file_extension": ".py",
   "mimetype": "text/x-python",
   "name": "python",
   "nbconvert_exporter": "python",
   "pygments_lexer": "ipython3",
   "version": "3.10.14"
  }
 },
 "nbformat": 4,
 "nbformat_minor": 2
}
